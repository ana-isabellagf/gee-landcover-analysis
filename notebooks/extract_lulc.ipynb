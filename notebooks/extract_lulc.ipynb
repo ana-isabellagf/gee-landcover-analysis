{
  "cells": [
    {
      "cell_type": "markdown",
      "metadata": {
        "id": "view-in-github",
        "colab_type": "text"
      },
      "source": [
        "<a href=\"https://colab.research.google.com/github/ana-isabellagf/earth_engine_python/blob/main/extract_lulc.ipynb\" target=\"_parent\"><img src=\"https://colab.research.google.com/assets/colab-badge.svg\" alt=\"Open In Colab\"/></a>"
      ]
    },
    {
      "cell_type": "markdown",
      "source": [
        "# **Série temporal do Uso e Cobertura do Solo (LULC)**\n",
        "## **Extração e visualização**\n",
        "\n",
        "Fiz um artigo no Medium falando sobre esse código, aqui está: [Série temporal LULC](https://medium.com/@aisabellaguimaraesf/série-temporal-do-uso-e-cobertura-do-solo-lulc-extração-e-visualização-52c59c5e0998)\n",
        "\n",
        "Autor: Ana Isabella Guimarães Ferreira (aisabellaguimaraesf@gmail.com)\n",
        "\n",
        "LinkedIn: www.linkedin.com/in/ana-isabella-g-ferreira\n"
      ],
      "metadata": {
        "id": "0PMPM_eZ2lH5"
      }
    },
    {
      "cell_type": "code",
      "execution_count": null,
      "metadata": {
        "id": "jWOp9EqlXRtv"
      },
      "outputs": [],
      "source": [
        "from google.colab import drive\n",
        "drive.mount('/content/drive')"
      ]
    },
    {
      "cell_type": "code",
      "execution_count": null,
      "metadata": {
        "id": "IDNxYH5grvOW"
      },
      "outputs": [],
      "source": [
        "!pip install -q rasterio"
      ]
    },
    {
      "cell_type": "code",
      "execution_count": null,
      "metadata": {
        "id": "Qbwo2NRUUxkw"
      },
      "outputs": [],
      "source": [
        "# Requirements\n",
        "import time\n",
        "import os\n",
        "import geopandas as gpd\n",
        "import pandas as pd\n",
        "import rasterio\n",
        "from rasterio import features\n",
        "from rasterio.mask import mask\n",
        "import geemap\n",
        "from shapely.geometry import shape\n",
        "import folium\n",
        "from folium.plugins import TimestampedGeoJson\n",
        "from shapely.geometry import mapping\n",
        "import ee\n",
        "\n",
        "# Trigger the authentication flow.\n",
        "ee.Authenticate()\n",
        "\n",
        "# Initialize the library.\n",
        "ee.Initialize(project='my-project')"
      ]
    },
    {
      "cell_type": "code",
      "execution_count": null,
      "metadata": {
        "id": "X_YSzNNTsZs9"
      },
      "outputs": [],
      "source": [
        "# CRS CODE - Brazil Data Cube\n",
        "# https://brazil-data-cube.github.io/products/specifications/bdc-grid.html\n",
        "crs_code = '+proj=aea +lat_0=-12 +lon_0=-54 +lat_1=-2 +lat_2=-22 +x_0=5000000 +y_0=10000000 +ellps=GRS80 +units=m +no_defs'"
      ]
    },
    {
      "cell_type": "code",
      "source": [
        "def extract_lulc_images(start_year, end_year, geom, aoi, crs_code):\n",
        "    \"\"\"\n",
        "    Extrai imagens LULC do Earth Engine para uma área de interesse e retorna um dicionário de GeoDataFrames por ano.\n",
        "\n",
        "    Args:\n",
        "        start_year (int): Ano inicial.\n",
        "        end_year (int): Ano final.\n",
        "        geom (ee.Geometry): Geometria da área de interesse.\n",
        "        aoi (gpd.GeoDataFrame): GeoDataFrame com os limites da área de interesse.\n",
        "        crs_code (str): Código CRS para os GeoDataFrames resultantes.\n",
        "\n",
        "    Returns:\n",
        "        dict: Dicionário contendo GeoDataFrames de LULC por ano.\n",
        "    \"\"\"\n",
        "    lulc_by_year = {}\n",
        "\n",
        "    # Obter o tempo inicial\n",
        "    start_time = time.time()\n",
        "\n",
        "    for ano in range(start_year, end_year + 1):\n",
        "        # Acessar o asset do Mapbiomas\n",
        "        dataset = ee.Image('projects/mapbiomas-workspace/public/collection8/mapbiomas_collection80_integration_v1').select(f'classification_{ano}').clip(geom)\n",
        "        output_filename = f'temp_mapbiomas_{ano}.tif'\n",
        "        geemap.ee_export_image(dataset, output_filename, scale=30, crs=\"EPSG:4326\", region=geom)\n",
        "\n",
        "        # Abrir a imagem localmente usando rasterio\n",
        "        with rasterio.open(output_filename) as src:\n",
        "            # Cortando o raster usando os limites do GeoDataFrame 'area'\n",
        "            out_image, out_transform = mask(src, aoi.geometry, crop=True)\n",
        "            out_meta = src.meta.copy()\n",
        "\n",
        "        # Criar um rasterio feature object com o mapbiomas\n",
        "        shapes = features.shapes(out_image[0], transform=out_transform)\n",
        "\n",
        "        # Listas vazias para armazenar classes de LULC e geometrias\n",
        "        value_class = []\n",
        "        geometry = []\n",
        "\n",
        "        # Preencher as listas com as geometrias e valores das classes\n",
        "        for shapedict, value in shapes:\n",
        "            value_class.append(value)\n",
        "            geometry.append(shape(shapedict))\n",
        "\n",
        "        # Criar um GeoDataframe com os valores das classes e geometria\n",
        "        lulc_gdf = gpd.GeoDataFrame({f'lulc_{ano}': value_class, 'geometry': geometry}, crs=crs_code)\n",
        "\n",
        "        # Armazenar o GeoDataFrame no dicionário\n",
        "        lulc_by_year[ano] = lulc_gdf\n",
        "\n",
        "        # Remover o arquivo TIFF temporário\n",
        "        os.remove(output_filename)\n",
        "\n",
        "    # Obter o tempo final\n",
        "    end_time = time.time()\n",
        "\n",
        "    # Calcular e exibir o tempo de execução\n",
        "    execution_time = end_time - start_time\n",
        "    print(f\"Tempo de execução: {execution_time} segundos\")\n",
        "\n",
        "    return lulc_by_year\n",
        "\n",
        "# Área de interesse\n",
        "aoi = gpd.read_file('aoi_lulc_dynamic.zip')\n",
        "\n",
        "# Geometrias para extração dos dados\n",
        "bounds = aoi.geometry.total_bounds\n",
        "geom = ee.Geometry.Rectangle(bounds.tolist())\n",
        "\n",
        "# Aplicando a função\n",
        "lulc_by_year = extract_lulc_images(1985, 2022, geom, aoi, crs_code)"
      ],
      "metadata": {
        "id": "H-fZEZn9OmuY"
      },
      "execution_count": null,
      "outputs": []
    },
    {
      "cell_type": "code",
      "execution_count": null,
      "metadata": {
        "id": "dbUqfJPQl0fG"
      },
      "outputs": [],
      "source": [
        "# Extrair latitude e longitude\n",
        "centroide = aoi.centroid.geometry.iloc[0]\n",
        "lon = centroide.x\n",
        "lat = centroide.y\n",
        "\n",
        "# Legenda Mapbiomas\n",
        "# https://brasil.mapbiomas.org/wp-content/uploads/sites/4/2023/09/Codigos-da-legenda-colecao-8-csv.zip\n",
        "codigos = pd.read_csv('Codigos-da-legenda-colecao-8.csv', sep=';')\n",
        "codigos.head()\n",
        "\n",
        "# Criar dicionário com as cores correspondentes às classes\n",
        "class_color_map = dict(zip(codigos['Class_ID'], codigos['Color']))"
      ]
    },
    {
      "cell_type": "code",
      "execution_count": null,
      "metadata": {
        "id": "i7zrFVZi11rh"
      },
      "outputs": [],
      "source": [
        "# Função para converter GeoDataFrame em GeoJSON\n",
        "def gdf_to_geojson(gdf, properties, date, class_color_map):\n",
        "    features = []\n",
        "    for _, row in gdf.iterrows():\n",
        "        feature = {\n",
        "            'type': 'Feature',\n",
        "            'geometry': mapping(row.geometry),\n",
        "            'properties': {prop: row[prop] for prop in properties}\n",
        "        }\n",
        "        # Adicionar propriedade de cor com base na classe LULC\n",
        "        lulc_value = row[properties[0]]\n",
        "        feature['properties']['color'] = class_color_map.get(lulc_value, \"#000000\")  # Preto como fallback\n",
        "        # Adicionar a propriedade de tempo\n",
        "        feature['properties']['time'] = date\n",
        "        # Adicionar o nome da classe LULC\n",
        "        label = codigos.loc[codigos[\"Class_ID\"] == lulc_value, \"Description\"].values\n",
        "        if len(label) > 0:\n",
        "            feature['properties']['class_name'] = label[0]\n",
        "        else:\n",
        "            feature['properties']['class_name'] = f'Class {lulc_value}'  # Rótulo padrão se a classe não existir em 'codigos'\n",
        "        features.append(feature)\n",
        "    return {'type': 'FeatureCollection', 'features': features}\n",
        "\n",
        "# Função de estilo para o GeoJSON\n",
        "def style_function(feature):\n",
        "    return {\n",
        "        'fillColor': feature['properties']['color'],\n",
        "        'color': None,\n",
        "        'weight': 0,\n",
        "        'fillOpacity': 1,\n",
        "    }"
      ]
    },
    {
      "cell_type": "code",
      "source": [
        "# Lista para armazenar os GeoJSONs\n",
        "geojson_list = []\n",
        "unique_classes = set()  # Conjunto para armazenar as classes únicas\n",
        "\n",
        "# Iterar pelos anos e converter os GeoDataFrames para GeoJSON\n",
        "for ano_plot in range(2012, 2023):\n",
        "    gdf = lulc_by_year[ano_plot]\n",
        "    # Converter valores float para inteiros na coluna lulc_ano\n",
        "    gdf[f'lulc_{ano_plot}'] = gdf[f'lulc_{ano_plot}'].astype(int)\n",
        "    # Adicionar classes únicas ao conjunto\n",
        "    unique_classes.update(gdf[f'lulc_{ano_plot}'].unique())\n",
        "    # Converter GeoDataFrame para GeoJSON\n",
        "    geojson = gdf_to_geojson(gdf, properties=[f'lulc_{ano_plot}'], date=f'{ano_plot}-01-01', class_color_map=class_color_map)\n",
        "    geojson_list.append(geojson)\n",
        "\n",
        "# Criar uma lista de GeoJSONs com estilo aplicado\n",
        "styled_features = []\n",
        "for geojson in geojson_list:\n",
        "    for feature in geojson['features']:\n",
        "        feature['properties']['style'] = style_function(feature)\n",
        "        styled_features.append(feature)"
      ],
      "metadata": {
        "id": "AqNzotUx1jn9"
      },
      "execution_count": null,
      "outputs": []
    },
    {
      "cell_type": "code",
      "source": [
        "# Defina as coordenadas centrais da sua área de interesse\n",
        "centro_mapa = (lat, lon)\n",
        "zoom_inicial = 12.5\n",
        "\n",
        "# Criação do mapa base\n",
        "m = folium.Map(location=centro_mapa, zoom_start=zoom_inicial)\n",
        "\n",
        "# Criar GeoJsonTooltip\n",
        "tooltip = folium.GeoJsonTooltip(\n",
        "    fields=['class_name'],\n",
        "    aliases=['Class: '],\n",
        "    localize=True\n",
        ")\n",
        "\n",
        "# Adicionar camada temporal ao mapa\n",
        "timestamped_geojson = TimestampedGeoJson(\n",
        "    {\n",
        "        'type': 'FeatureCollection',\n",
        "        'features': styled_features\n",
        "    },\n",
        "    transition_time=200,  # tempo de transição entre os anos\n",
        "    period='P1Y',  # período de 1 ano\n",
        "    add_last_point=True,\n",
        "    auto_play=False,\n",
        "    loop=False,\n",
        "    max_speed=1,\n",
        "    loop_button=True,\n",
        "    date_options='YYYY',\n",
        "    time_slider_drag_update=True\n",
        ")\n",
        "\n",
        "# Adicionar camada temporal ao mapa\n",
        "timestamped_geojson.add_to(m)\n",
        "\n",
        "# Adicionar GeoJson com tooltips ao mapa\n",
        "folium.GeoJson(\n",
        "    timestamped_geojson.data,\n",
        "    style_function=style_function,\n",
        "    tooltip=tooltip\n",
        ").add_to(m)\n",
        "\n",
        "# Salvar o mapa como um arquivo HTML\n",
        "m.save('historico_LULC.html')"
      ],
      "metadata": {
        "id": "VYc7ElZE1usy"
      },
      "execution_count": null,
      "outputs": []
    }
  ],
  "metadata": {
    "colab": {
      "provenance": [],
      "gpuType": "T4",
      "include_colab_link": true
    },
    "kernelspec": {
      "display_name": "Python 3",
      "name": "python3"
    },
    "language_info": {
      "name": "python"
    },
    "accelerator": "GPU"
  },
  "nbformat": 4,
  "nbformat_minor": 0
}
