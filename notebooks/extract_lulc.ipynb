{
  "cells": [
    {
      "cell_type": "markdown",
      "metadata": {
        "id": "view-in-github",
        "colab_type": "text"
      },
      "source": [
        "<a href=\"https://colab.research.google.com/github/ana-isabellagf/gee-landcover-analysis/blob/main/notebooks/extract_lulc.ipynb\" target=\"_parent\"><img src=\"https://colab.research.google.com/assets/colab-badge.svg\" alt=\"Open In Colab\"/></a>"
      ]
    },
    {
      "cell_type": "markdown",
      "source": [
        "# **Landuse/Landcover (LULC) Time Series**\n",
        "## **Extraction and Visualization**\n",
        "\n",
        "Medium article: [LULC Time Series](https://medium.com/@aisabellaguimaraesf/série-temporal-do-uso-e-cobertura-do-solo-lulc-extração-e-visualização-52c59c5e0998)\n",
        "\n",
        "Author: Ana Isabella Guimarães Ferreira (aisabellaguimaraesf@gmail.com)\n",
        "\n",
        "LinkedIn: www.linkedin.com/in/ana-isabella-g-ferreira\n"
      ],
      "metadata": {
        "id": "0PMPM_eZ2lH5"
      }
    },
    {
      "cell_type": "code",
      "execution_count": null,
      "metadata": {
        "id": "jWOp9EqlXRtv"
      },
      "outputs": [],
      "source": [
        "from google.colab import drive\n",
        "drive.mount('/content/drive')"
      ]
    },
    {
      "cell_type": "code",
      "execution_count": null,
      "metadata": {
        "id": "IDNxYH5grvOW"
      },
      "outputs": [],
      "source": [
        "!pip install -q rasterio"
      ]
    },
    {
      "cell_type": "code",
      "execution_count": 3,
      "metadata": {
        "id": "Qbwo2NRUUxkw"
      },
      "outputs": [],
      "source": [
        "# Requirements\n",
        "import time\n",
        "import os\n",
        "import geopandas as gpd\n",
        "import pandas as pd\n",
        "import rasterio\n",
        "from rasterio import features\n",
        "from rasterio.mask import mask\n",
        "import geemap\n",
        "from shapely.geometry import shape\n",
        "import folium\n",
        "from folium.plugins import TimestampedGeoJson\n",
        "from shapely.geometry import mapping\n",
        "import ee\n",
        "\n",
        "# Trigger the authentication flow.\n",
        "ee.Authenticate()\n",
        "\n",
        "# Initialize the library.\n",
        "ee.Initialize(project='ee-aisabellaguimaraesf')"
      ]
    },
    {
      "cell_type": "code",
      "execution_count": null,
      "metadata": {
        "id": "X_YSzNNTsZs9"
      },
      "outputs": [],
      "source": [
        "# CRS CODE - Brazil Data Cube\n",
        "# https://brazil-data-cube.github.io/products/specifications/bdc-grid.html\n",
        "crs_code = '+proj=aea +lat_0=-12 +lon_0=-54 +lat_1=-2 +lat_2=-22 +x_0=5000000 +y_0=10000000 +ellps=GRS80 +units=m +no_defs'"
      ]
    },
    {
      "cell_type": "code",
      "source": [
        "def extract_lulc_images(start_year, end_year, geom, aoi, crs_code):\n",
        "    \"\"\"\n",
        "    Extracts LULC images from Earth Engine for a given area of interest and returns a dictionary of GeoDataFrames by year.\n",
        "\n",
        "    Args:\n",
        "        start_year (int): Start year.\n",
        "        end_year (int): End year.\n",
        "        geom (ee.Geometry): Geometry of the area of interest.\n",
        "        aoi (gpd.GeoDataFrame): GeoDataFrame containing the AOI boundaries.\n",
        "        crs_code (str): CRS code for the resulting GeoDataFrames.\n",
        "\n",
        "    Returns:\n",
        "        dict: Dictionary containing LULC GeoDataFrames per year.\n",
        "    \"\"\"\n",
        "    lulc_by_year = {}\n",
        "\n",
        "    # Get start time\n",
        "    start_time = time.time()\n",
        "\n",
        "    for year in range(start_year, end_year + 1):\n",
        "        # Access MapBiomas asset\n",
        "        dataset = ee.Image('projects/mapbiomas-public/assets/brazil/lulc/collection9/mapbiomas_collection90_integration_v1').select(f'classification_{year}').clip(geom)\n",
        "        output_filename = f'temp_mapbiomas_{year}.tif'\n",
        "        geemap.ee_export_image(dataset, output_filename, scale=30, crs=\"EPSG:4326\", region=geom)\n",
        "\n",
        "        # Open image locally using rasterio\n",
        "        with rasterio.open(output_filename) as src:\n",
        "            # Mask the raster using the AOI geometry\n",
        "            out_image, out_transform = mask(src, aoi.geometry, crop=True)\n",
        "            out_meta = src.meta.copy()\n",
        "\n",
        "        # Extract features from raster\n",
        "        shapes = features.shapes(out_image[0], transform=out_transform)\n",
        "\n",
        "        # Lists to store LULC class values and geometries\n",
        "        class_values = []\n",
        "        geometries = []\n",
        "\n",
        "        # Fill the lists with geometry and class values\n",
        "        for shapedict, value in shapes:\n",
        "            class_values.append(value)\n",
        "            geometries.append(shape(shapedict))\n",
        "\n",
        "        # Create a GeoDataFrame with class values and geometry\n",
        "        lulc_gdf = gpd.GeoDataFrame({f'lulc_{year}': class_values, 'geometry': geometries}, crs=crs_code)\n",
        "\n",
        "        # Store the GeoDataFrame in the dictionary\n",
        "        lulc_by_year[year] = lulc_gdf\n",
        "\n",
        "        # Remove temporary TIFF file\n",
        "        os.remove(output_filename)\n",
        "\n",
        "    # Get end time\n",
        "    end_time = time.time()\n",
        "\n",
        "    # Calculate and print execution time\n",
        "    execution_time = end_time - start_time\n",
        "    print(f\"Execution time: {execution_time:.2f} seconds\")\n",
        "\n",
        "    return lulc_by_year\n",
        "\n",
        "# Area of interest\n",
        "aoi = gpd.read_file('/content/drive/MyDrive/GitHub/lulc_dynamic/aoi_lulc_dynamic.zip')\n",
        "\n",
        "# Geometry for image extraction\n",
        "bounds = aoi.geometry.total_bounds\n",
        "geom = ee.Geometry.Rectangle(bounds.tolist())\n",
        "\n",
        "# Run the function\n",
        "lulc_by_year = extract_lulc_images(1985, 2023, geom, aoi, crs_code)"
      ],
      "metadata": {
        "id": "H-fZEZn9OmuY"
      },
      "execution_count": null,
      "outputs": []
    },
    {
      "cell_type": "code",
      "execution_count": null,
      "metadata": {
        "id": "dbUqfJPQl0fG"
      },
      "outputs": [],
      "source": [
        "# Extract latitude and longitude\n",
        "centroid = aoi.centroid.geometry.iloc[0]\n",
        "lon = centroid.x\n",
        "lat = centroid.y\n",
        "\n",
        "# MapBiomas legend\n",
        "# https://brasil.mapbiomas.org/wp-content/uploads/sites/4/2024/08/Codigos-da-legenda-colecao-9.zip\n",
        "legend = pd.read_excel('/content/drive/MyDrive/GitHub/lulc_dynamic/Codigos-da-legenda-colecao-9.xlsx')\n",
        "legend.head()\n",
        "\n",
        "# Create a dictionary mapping class IDs to colors\n",
        "class_color_map = dict(zip(legend['Class_ID'], legend['Color']))"
      ]
    },
    {
      "cell_type": "code",
      "execution_count": null,
      "metadata": {
        "id": "i7zrFVZi11rh"
      },
      "outputs": [],
      "source": [
        "# Function to convert a GeoDataFrame into GeoJSON\n",
        "def gdf_to_geojson(gdf, properties, date, class_color_map):\n",
        "    features = []\n",
        "    for _, row in gdf.iterrows():\n",
        "        feature = {\n",
        "            'type': 'Feature',\n",
        "            'geometry': mapping(row.geometry),\n",
        "            'properties': {prop: row[prop] for prop in properties}\n",
        "        }\n",
        "        # Add color property based on LULC class\n",
        "        lulc_value = row[properties[0]]\n",
        "        feature['properties']['color'] = class_color_map.get(lulc_value, \"#000000\")  # Black as fallback\n",
        "        # Add timestamp property\n",
        "        feature['properties']['time'] = date\n",
        "        # Add LULC class name\n",
        "        label = legend.loc[legend[\"Class_ID\"] == lulc_value, \"Description\"].values\n",
        "        if len(label) > 0:\n",
        "            feature['properties']['class_name'] = label[0]\n",
        "        else:\n",
        "            feature['properties']['class_name'] = f'Class {lulc_value}'  # Default label if class is not in 'legend'\n",
        "        features.append(feature)\n",
        "    return {'type': 'FeatureCollection', 'features': features}\n",
        "\n",
        "# Style function for the GeoJSON\n",
        "def style_function(feature):\n",
        "    return {\n",
        "        'fillColor': feature['properties']['color'],\n",
        "        'color': None,\n",
        "        'weight': 0,\n",
        "        'fillOpacity': 1,\n",
        "    }"
      ]
    },
    {
      "cell_type": "code",
      "source": [
        "# List to store the GeoJSONs\n",
        "geojson_list = []\n",
        "unique_classes = set()  # Set to store unique LULC classes\n",
        "\n",
        "# Iterate over the years and convert GeoDataFrames to GeoJSON\n",
        "for year_plot in range(2012, 2023):\n",
        "    gdf = lulc_by_year[year_plot]\n",
        "    # Convert float values to integers in the lulc_year column\n",
        "    gdf[f'lulc_{year_plot}'] = gdf[f'lulc_{year_plot}'].astype(int)\n",
        "    # Add unique classes to the set\n",
        "    unique_classes.update(gdf[f'lulc_{year_plot}'].unique())\n",
        "    # Convert GeoDataFrame to GeoJSON\n",
        "    geojson = gdf_to_geojson(gdf, properties=[f'lulc_{year_plot}'], date=f'{year_plot}-01-01', class_color_map=class_color_map)\n",
        "    geojson_list.append(geojson)\n",
        "\n",
        "# Create a list of GeoJSONs with applied styling\n",
        "styled_features = []\n",
        "for geojson in geojson_list:\n",
        "    for feature in geojson['features']:\n",
        "        feature['properties']['style'] = style_function(feature)\n",
        "        styled_features.append(feature)"
      ],
      "metadata": {
        "id": "AqNzotUx1jn9",
        "collapsed": true
      },
      "execution_count": null,
      "outputs": []
    },
    {
      "cell_type": "code",
      "source": [
        "# Define the center coordinates of your area of interest\n",
        "map_center = (lat, lon)\n",
        "initial_zoom = 12.5\n",
        "\n",
        "# Create base map\n",
        "m = folium.Map(location=map_center, zoom_start=initial_zoom)\n",
        "\n",
        "# Create GeoJsonTooltip\n",
        "tooltip = folium.GeoJsonTooltip(\n",
        "    fields=['class_name'],\n",
        "    aliases=['Class: '],\n",
        "    localize=True\n",
        ")\n",
        "\n",
        "# Create the temporal layer for the map\n",
        "timestamped_geojson = TimestampedGeoJson(\n",
        "    {\n",
        "        'type': 'FeatureCollection',\n",
        "        'features': styled_features\n",
        "    },\n",
        "    transition_time=200,       # transition time between years\n",
        "    period='P1Y',              # period of 1 year\n",
        "    add_last_point=True,\n",
        "    auto_play=False,\n",
        "    loop=False,\n",
        "    max_speed=1,\n",
        "    loop_button=True,\n",
        "    date_options='YYYY',\n",
        "    time_slider_drag_update=True\n",
        ")\n",
        "\n",
        "# Add the timestamped layer to the map\n",
        "timestamped_geojson.add_to(m)\n",
        "\n",
        "# Add GeoJson with tooltips to the map\n",
        "folium.GeoJson(\n",
        "    timestamped_geojson.data,\n",
        "    style_function=style_function,\n",
        "    tooltip=tooltip\n",
        ").add_to(m)\n",
        "\n",
        "# Save the map as an HTML file\n",
        "m.save('LULC_history.html')"
      ],
      "metadata": {
        "id": "VYc7ElZE1usy"
      },
      "execution_count": null,
      "outputs": []
    }
  ],
  "metadata": {
    "colab": {
      "provenance": [],
      "gpuType": "T4",
      "include_colab_link": true
    },
    "kernelspec": {
      "display_name": "Python 3",
      "name": "python3"
    },
    "language_info": {
      "name": "python"
    },
    "accelerator": "GPU"
  },
  "nbformat": 4,
  "nbformat_minor": 0
}